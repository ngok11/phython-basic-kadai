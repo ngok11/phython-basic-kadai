{
  "nbformat": 4,
  "nbformat_minor": 0,
  "metadata": {
    "colab": {
      "provenance": []
    },
    "kernelspec": {
      "name": "python3",
      "display_name": "Python 3"
    },
    "language_info": {
      "name": "python"
    }
  },
  "cells": [
    {
      "cell_type": "code",
      "source": [
        "class Human:\n",
        "  def __init__(self, name, age):\n",
        "    self.name = name\n",
        "    self.age = age\n",
        "\n",
        "  def check_adult(self):\n",
        "    if self.age >= 20:\n",
        "      print(f\"{self.name}は大人\")\n",
        "    else:\n",
        "      print(f\"{self.name}は未成年\")\n",
        "\n",
        "\n",
        "human1 = Human(\"太郎\", 30)\n",
        "human2 = Human(\"二郎\", 25)\n",
        "human3 = Human(\"三郎\", 19)\n",
        "human4 = Human(\"四郎\", 15)\n",
        "human5 = Human(\"五郎\", 8)\n",
        "humans = [human1, human2, human3, human4, human5]\n",
        "\n",
        "for human in humans:\n",
        "  human.check_adult()\n",
        "\n",
        "\n"
      ],
      "metadata": {
        "colab": {
          "base_uri": "https://localhost:8080/"
        },
        "id": "NX5JkP0fu67c",
        "outputId": "df8ec188-2b29-41c1-87e7-30d7dc20f41b"
      },
      "execution_count": 3,
      "outputs": [
        {
          "output_type": "stream",
          "name": "stdout",
          "text": [
            "太郎は大人\n",
            "二郎は大人\n",
            "三郎は未成年\n",
            "四郎は未成年\n",
            "五郎は未成年\n"
          ]
        }
      ]
    }
  ]
}