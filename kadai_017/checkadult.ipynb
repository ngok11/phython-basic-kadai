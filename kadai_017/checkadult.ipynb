{
  "nbformat": 4,
  "nbformat_minor": 0,
  "metadata": {
    "colab": {
      "provenance": []
    },
    "kernelspec": {
      "name": "python3",
      "display_name": "Python 3"
    },
    "language_info": {
      "name": "python"
    }
  },
  "cells": [
    {
      "cell_type": "code",
      "source": [
        "!rm /etc/localtime\n",
        "!ln -s /usr/share/zoneinfo/Asia/Tokyo /etc/localtime\n",
        "!date"
      ],
      "metadata": {
        "colab": {
          "base_uri": "https://localhost:8080/"
        },
        "id": "zoVnHWpOiQ-G",
        "outputId": "e71d00fd-8113-4945-ca01-7d827bba8015"
      },
      "execution_count": 1,
      "outputs": [
        {
          "output_type": "stream",
          "name": "stdout",
          "text": [
            "Wed Oct 22 07:50:20 PM JST 2025\n"
          ]
        }
      ]
    },
    {
      "cell_type": "code",
      "execution_count": 2,
      "metadata": {
        "colab": {
          "base_uri": "https://localhost:8080/"
        },
        "id": "oHPbjshfhzIr",
        "outputId": "e86de642-ef59-4aa0-b0bc-8841f73c2896"
      },
      "outputs": [
        {
          "output_type": "stream",
          "name": "stdout",
          "text": [
            "1761130246.950795\n",
            "2025年10月22日19時50分46秒\n"
          ]
        }
      ],
      "source": [
        "import time\n",
        "\n",
        "print(time.time())\n",
        "\n",
        "print(time.strftime(\"%Y年%m月%d日%H時%M分%S秒\",time.localtime()))"
      ]
    },
    {
      "cell_type": "code",
      "source": [
        "import datetime\n",
        "\n",
        "date_time = datetime.datetime.strptime(\"2025-10-22 19:58:10\", \"%Y-%m-%d %H:%M:%S\")\n",
        "\n",
        "print(date_time.strftime(\"%Y年%m月%d日%H時%M分%S秒\"))"
      ],
      "metadata": {
        "colab": {
          "base_uri": "https://localhost:8080/"
        },
        "id": "eAEF3Dg9jE6z",
        "outputId": "63b78c6e-5b41-46d0-87bb-61497866bd4e"
      },
      "execution_count": 6,
      "outputs": [
        {
          "output_type": "stream",
          "name": "stdout",
          "text": [
            "2025年10月22日19時58分10秒\n"
          ]
        }
      ]
    },
    {
      "cell_type": "code",
      "source": [
        "import datetime\n",
        "\n",
        "date_time = datetime.datetime.strptime(\"2025-10-22 19:58:10\", \"%Y-%m-%d %H:%M:%S\")\n",
        "\n",
        "print(date_time)\n",
        "\n",
        "print(date_time.year)\n",
        "print(date_time.month)\n",
        "print(date_time.day)\n",
        "print(date_time.hour)\n",
        "print(date_time.minute)\n",
        "print(date_time.second)"
      ],
      "metadata": {
        "colab": {
          "base_uri": "https://localhost:8080/"
        },
        "id": "r2nsMXEHk3zn",
        "outputId": "b880870e-21f8-4ebb-8369-ad05ffd57ef2"
      },
      "execution_count": 7,
      "outputs": [
        {
          "output_type": "stream",
          "name": "stdout",
          "text": [
            "2025-10-22 19:58:10\n",
            "2025\n",
            "10\n",
            "22\n",
            "19\n",
            "58\n",
            "10\n"
          ]
        }
      ]
    },
    {
      "cell_type": "code",
      "source": [
        "import datetime\n",
        "\n",
        "now =  datetime.datetime.now()\n",
        "\n",
        "date_time = datetime.datetime.strptime(\"2024-10-22 19:58:10\", \"%Y-%m-%d %H:%M:%S\")\n",
        "\n",
        "interval = now - date_time\n",
        "\n",
        "print(f\"総日数は{interval.days}日です。\")"
      ],
      "metadata": {
        "colab": {
          "base_uri": "https://localhost:8080/"
        },
        "id": "ZVElqzpNlcJB",
        "outputId": "a8ce24ed-ee2b-4964-e9c9-315520c16d5b"
      },
      "execution_count": 11,
      "outputs": [
        {
          "output_type": "stream",
          "name": "stdout",
          "text": [
            "総日数は365日です。\n"
          ]
        }
      ]
    },
    {
      "cell_type": "code",
      "source": [
        "pip install Django"
      ],
      "metadata": {
        "colab": {
          "base_uri": "https://localhost:8080/"
        },
        "id": "BRFKw_oIuOUu",
        "outputId": "29569e11-de26-43a1-b020-b9be3c03aed5"
      },
      "execution_count": 12,
      "outputs": [
        {
          "output_type": "stream",
          "name": "stdout",
          "text": [
            "Collecting Django\n",
            "  Downloading django-5.2.7-py3-none-any.whl.metadata (4.1 kB)\n",
            "Collecting asgiref>=3.8.1 (from Django)\n",
            "  Downloading asgiref-3.10.0-py3-none-any.whl.metadata (9.3 kB)\n",
            "Requirement already satisfied: sqlparse>=0.3.1 in /usr/local/lib/python3.12/dist-packages (from Django) (0.5.3)\n",
            "Downloading django-5.2.7-py3-none-any.whl (8.3 MB)\n",
            "\u001b[?25l   \u001b[90m━━━━━━━━━━━━━━━━━━━━━━━━━━━━━━━━━━━━━━━━\u001b[0m \u001b[32m0.0/8.3 MB\u001b[0m \u001b[31m?\u001b[0m eta \u001b[36m-:--:--\u001b[0m\r\u001b[2K   \u001b[91m━━━━━━━━━━━━━━━━━━━━━━━━━━━━━\u001b[0m\u001b[90m╺\u001b[0m\u001b[90m━━━━━━━━━━\u001b[0m \u001b[32m6.1/8.3 MB\u001b[0m \u001b[31m183.0 MB/s\u001b[0m eta \u001b[36m0:00:01\u001b[0m\r\u001b[2K   \u001b[91m━━━━━━━━━━━━━━━━━━━━━━━━━━━━━━━━━━━━━━━\u001b[0m\u001b[91m╸\u001b[0m \u001b[32m8.3/8.3 MB\u001b[0m \u001b[31m191.9 MB/s\u001b[0m eta \u001b[36m0:00:01\u001b[0m\r\u001b[2K   \u001b[90m━━━━━━━━━━━━━━━━━━━━━━━━━━━━━━━━━━━━━━━━\u001b[0m \u001b[32m8.3/8.3 MB\u001b[0m \u001b[31m109.2 MB/s\u001b[0m eta \u001b[36m0:00:00\u001b[0m\n",
            "\u001b[?25hDownloading asgiref-3.10.0-py3-none-any.whl (24 kB)\n",
            "Installing collected packages: asgiref, Django\n",
            "Successfully installed Django-5.2.7 asgiref-3.10.0\n"
          ]
        }
      ]
    },
    {
      "cell_type": "code",
      "source": [
        "import django\n",
        "print(django.get_version())"
      ],
      "metadata": {
        "colab": {
          "base_uri": "https://localhost:8080/"
        },
        "id": "tSexNqgrulY8",
        "outputId": "142575d0-be0d-4ab8-f037-46004539cd25"
      },
      "execution_count": 13,
      "outputs": [
        {
          "output_type": "stream",
          "name": "stdout",
          "text": [
            "5.2.7\n"
          ]
        }
      ]
    },
    {
      "cell_type": "code",
      "source": [
        "names = [\"太郎\", \"二郎\", \"三郎\", \"四郎\",\"五郎\"]\n",
        "ages = [30, 25, 19, 15, 8]\n",
        "\n",
        "class Human:\n",
        "  def __init__(self, name, age):\n",
        "    self.name = name\n",
        "    self.age = age\n",
        "\n",
        "  def check_adult(self):\n",
        "    if self.age > 20:\n",
        "      print(f\"{self.name}は大人\")\n",
        "    else:\n",
        "      print(f\"{self.name}は未成年\")\n",
        "\n",
        "i = 0\n",
        "\n",
        "while i < 5:\n",
        "  human = Human(names[i], ages[i])\n",
        "  human.check_adult()\n",
        "  i = i + 1\n",
        "\n",
        "\n"
      ],
      "metadata": {
        "colab": {
          "base_uri": "https://localhost:8080/"
        },
        "id": "NX5JkP0fu67c",
        "outputId": "1744b1f6-2115-4639-8f72-dcd14865f1d4"
      },
      "execution_count": 26,
      "outputs": [
        {
          "output_type": "stream",
          "name": "stdout",
          "text": [
            "太郎は大人\n",
            "二郎は大人\n",
            "三郎は未成年\n",
            "四郎は未成年\n",
            "五郎は未成年\n"
          ]
        }
      ]
    }
  ]
}